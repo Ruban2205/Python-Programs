{
  "nbformat": 4,
  "nbformat_minor": 0,
  "metadata": {
    "colab": {
      "provenance": []
    },
    "kernelspec": {
      "name": "python3",
      "display_name": "Python 3"
    },
    "language_info": {
      "name": "python"
    }
  },
  "cells": [
    {
      "cell_type": "markdown",
      "metadata": {
        "id": "QUTvvZEQy58N"
      },
      "source": [
        "#**Object Oriented Application using Classes and Objects**"
      ]
    },
    {
      "cell_type": "markdown",
      "metadata": {
        "id": "lUZBAbLQy_o4"
      },
      "source": [
        "**Programs**"
      ]
    },
    {
      "cell_type": "markdown",
      "metadata": {
        "id": "Y_5UXxqdz6MG"
      },
      "source": [
        "**1)** To Write a python program to generate a reports of an Employee using classes and objects \n"
      ]
    },
    {
      "cell_type": "code",
      "metadata": {
        "colab": {
          "base_uri": "https://localhost:8080/"
        },
        "id": "i53XQD_PypIO",
        "outputId": "d8b8161c-f9a7-4353-efd7-7b7b8afd2dd4"
      },
      "source": [
        "class employee():\n",
        "    name = ''\n",
        "    empId = ''\n",
        "    salary = 0\n",
        "\n",
        "    def __init__(self, name, empId, salary):\n",
        "        self.__name = name\n",
        "        self.__empId = empId\n",
        "        self.__salary = salary\n",
        "    def printreport(list):\n",
        "      print(\"\\n| Employee Report |\\n\")\n",
        "      for i in list1:\n",
        "          print(\"Name\\t     :\", i.__name, \"\\nEmployee Id  :\", i.__empId, \"\\nSalary\\t     :\", i.__salary, \"\\n--------------------\")\n",
        "         \n",
        "list1 = []\n",
        "list1.append(employee(\"Ruban\",\"123\",50000))\n",
        "list1.append(employee('Gino', '124', 45000))\n",
        "if __name__ == '__main__':\n",
        "  employee.printreport(list1)"
      ],
      "execution_count": null,
      "outputs": [
        {
          "output_type": "stream",
          "text": [
            "\n",
            "| Employee Report |\n",
            "\n",
            "Name\t     : Ruban \n",
            "Employee Id  : 123 \n",
            "Salary\t     : 50000 \n",
            "--------------------\n",
            "Name\t     : Gino \n",
            "Employee Id  : 124 \n",
            "Salary\t     : 45000 \n",
            "--------------------\n"
          ],
          "name": "stdout"
        }
      ]
    },
    {
      "cell_type": "markdown",
      "metadata": {
        "id": "o5o7lZuD0m9I"
      },
      "source": [
        "**Output:**\\\n",
        "| Employee Report |\n",
        "\n",
        "Name\t     : Ruban \\\n",
        "Employee Id  : 123 \\\n",
        "Salary\t     : 50000 \\\n",
        ".--------------------\\\n",
        "Name\t     : Gino \\\n",
        "Employee Id  : 124 \\\n",
        "Salary\t     : 45000 \\\n",
        ".--------------------"
      ]
    },
    {
      "cell_type": "markdown",
      "metadata": {
        "id": "FsN8dd3A1CAJ"
      },
      "source": [
        "**2)** To write a python program to design a class to represent a rectangle"
      ]
    },
    {
      "cell_type": "code",
      "metadata": {
        "colab": {
          "base_uri": "https://localhost:8080/"
        },
        "id": "7WD_JZHj0pJu",
        "outputId": "de97c71a-c3e7-4266-d867-6becbcd75b65"
      },
      "source": [
        "class Rectangle:\n",
        "  def __init__(self, l, b):\n",
        "    self.length = l \n",
        "    self.breadth = b\n",
        "  def __add__(self, rect2):\n",
        "    l = self.length + rect2.length\n",
        "    b = self.breadth + rect2.breadth\n",
        "    temp = Rectangle(l,b)\n",
        "    return temp\n",
        "  def __str__(self):\n",
        "    return \"Length: \" + str(self.length) + \" \" + \"Breadth: \" + str(self.breadth)\n",
        "  def __eq__(self, rect2):\n",
        "    if self.length == rect2.length and self.breadth == rect2.breadth:\n",
        "      return True\n",
        "    else:\n",
        "      return False\n",
        "  def __lt__(self, rect2):\n",
        "    if self.length<rect2.length and self.breadth<rect2.breadth:\n",
        "      return True\n",
        "    else:\n",
        "      return False\n",
        "  def __gt__(self, rect2):\n",
        "    if self.length>rect2.length and self.breadth>rect2.breadth:\n",
        "      return True\n",
        "    else:\n",
        "      return False\n",
        "  def __le__(self, rect2):\n",
        "    if self.length<=rect2.length and self.breadth<=rect2.breadth:\n",
        "      return True\n",
        "    else:\n",
        "      return False\n",
        "  def __ge__(self, rect2):\n",
        "    if self.length>=rect2.length and self.breadth>=rect2.breadth:\n",
        "      return True\n",
        "    else:\n",
        "      return False\n",
        "\n",
        "r1 = Rectangle(20,9)\n",
        "r2 = Rectangle(30,1)\n",
        "\n",
        "r3 = r1 + r2\n",
        "print(r3)\n",
        "print(r1 == r2)\n",
        "print(r1 < r2)\n",
        "print(r1 > r2)\n",
        "print(r1 <= r2)\n",
        "print(r1 >= r2)\n"
      ],
      "execution_count": null,
      "outputs": [
        {
          "output_type": "stream",
          "text": [
            "Length: 50 Breadth: 10\n",
            "False\n",
            "False\n",
            "False\n",
            "False\n",
            "False\n"
          ],
          "name": "stdout"
        }
      ]
    },
    {
      "cell_type": "markdown",
      "metadata": {
        "id": "aHg8ytmST0uB"
      },
      "source": [
        "**Output:**\\\n",
        "Length: 50 Breadth: 10\\\n",
        "False\\\n",
        "False\\\n",
        "False\\\n",
        "False\\\n",
        "False"
      ]
    }
  ]
}