{
  "nbformat": 4,
  "nbformat_minor": 0,
  "metadata": {
    "colab": {
      "provenance": []
    },
    "kernelspec": {
      "name": "python3",
      "display_name": "Python 3"
    }
  },
  "cells": [
    {
      "cell_type": "markdown",
      "metadata": {
        "id": "EhD5Pgn5pM7X"
      },
      "source": [
        "**Dictionary Programs**"
      ]
    },
    {
      "cell_type": "markdown",
      "metadata": {
        "id": "FCM0_FwHnWif"
      },
      "source": [
        "**1)** To perform dictionary methods or actions in the given code snipet."
      ]
    },
    {
      "cell_type": "code",
      "metadata": {
        "colab": {
          "base_uri": "https://localhost:8080/"
        },
        "id": "SH58XudQnVqb",
        "outputId": "cc99749a-aa11-416f-d214-3f1847777a87"
      },
      "source": [
        "inventory = {\n",
        "    'gold' : 500,\n",
        "    'pouch' : ['flint', 'twine', 'gemstone'],\n",
        "    'backpack' : ['xylophone','dagger', 'bedroll','bread loaf']\n",
        "}\n",
        "inventory['pocket'] = ['seashell', 'strange berry','lint']\n",
        "inventory['backpack'].sort()\n",
        "inventory['pouch'].remove('twine')\n",
        "print(f\"Updated list\\n{inventory}\")"
      ],
      "execution_count": null,
      "outputs": [
        {
          "output_type": "stream",
          "text": [
            "Updated list\n",
            "{'gold': 500, 'pouch': ['flint', 'gemstone'], 'backpack': ['bedroll', 'bread loaf', 'dagger', 'xylophone'], 'pocket': ['seashell', 'strange berry', 'lint']}\n"
          ],
          "name": "stdout"
        }
      ]
    },
    {
      "cell_type": "markdown",
      "metadata": {
        "id": "G1e0AloLpQve"
      },
      "source": [
        "**Output**\\\n",
        "Updated list\\\n",
        "{'gold': 500, 'pouch': ['flint', 'twine', 'gemstone'], \n",
        "\\'backpack': ['bedroll', 'bread loaf', 'xylophone'], \n",
        "\\'pocket': ['seashell', 'strange berry', 'lint']}"
      ]
    },
    {
      "cell_type": "markdown",
      "metadata": {
        "id": "s53u1K_ypjGZ"
      },
      "source": [
        "**2)** To perform dictionary methods and actions are given in this snipet. "
      ]
    },
    {
      "cell_type": "code",
      "metadata": {
        "colab": {
          "base_uri": "https://localhost:8080/"
        },
        "id": "hGEW7wkBpSgC",
        "outputId": "d6bcb545-d0bd-46e1-fab1-8f33faf99214"
      },
      "source": [
        "prices = {\n",
        "    'banana':4,\n",
        "    'apple':2,\n",
        "    'orange':1.5,\n",
        "    'pears':3\n",
        "}\n",
        "stock = {\n",
        "    'banana':13,\n",
        "    'apple':0,\n",
        "    'orange':7,\n",
        "    'pears':12\n",
        "}\n",
        "for key in prices: \n",
        "  print(key)\n",
        "  print(f\"price: {prices[key]}\")\n",
        "  print(f\"stock:{stock[key]}\")\n",
        "  print(\"\\n\")\n",
        "\n",
        "totalVal = 0 \n",
        "comodity = 0 \n",
        "\n",
        "for key in prices:\n",
        "  comodity = (prices[key] * stock[key])\n",
        "  totalVal += comodity\n",
        "  print(comodity, end='\\n\\n')\n",
        "  print(f'Total = {totalVal}')"
      ],
      "execution_count": null,
      "outputs": [
        {
          "output_type": "stream",
          "text": [
            "banana\n",
            "price: 4\n",
            "stock:13\n",
            "\n",
            "\n",
            "apple\n",
            "price: 2\n",
            "stock:0\n",
            "\n",
            "\n",
            "orange\n",
            "price: 1.5\n",
            "stock:7\n",
            "\n",
            "\n",
            "pears\n",
            "price: 3\n",
            "stock:12\n",
            "\n",
            "\n",
            "52\n",
            "\n",
            "Total = 52\n",
            "0\n",
            "\n",
            "Total = 52\n",
            "10.5\n",
            "\n",
            "Total = 62.5\n",
            "36\n",
            "\n",
            "Total = 98.5\n"
          ],
          "name": "stdout"
        }
      ]
    },
    {
      "cell_type": "markdown",
      "metadata": {
        "id": "vR0OKctPrG02"
      },
      "source": [
        "**Output**\\\n",
        "  banana\\\n",
        "price: 4\\\n",
        "stock:13\\\n",
        "\\\n",
        "\\\n",
        "apple\\\n",
        "price: 2\\\n",
        "stock:0\\\n",
        "\\\n",
        "\\\n",
        "orange\\\n",
        "price: 1.5\\\n",
        "stock:7\\\n",
        "\\\n",
        "\\\n",
        "pears\\\n",
        "price: 3\\\n",
        "stock:12\\\n",
        "\\\n",
        "\\\n",
        "52\\\n",
        "\\\n",
        "Total = 52\\\n",
        "0\\\n",
        "\\\n",
        "Total = 52\\\n",
        "10.5\\\n",
        "\\\n",
        "Total = 62.5\\\n",
        "36\\\n",
        "\\\n",
        "Total = 98.5\n"
      ]
    },
    {
      "cell_type": "markdown",
      "metadata": {
        "id": "XkBN5OaFrhhw"
      },
      "source": [
        "**3)** To write a python program to calculate the price of comodities. "
      ]
    },
    {
      "cell_type": "code",
      "metadata": {
        "colab": {
          "base_uri": "https://localhost:8080/"
        },
        "id": "NyBlNBLFrkgH",
        "outputId": "a8b3e67a-39ea-4249-afda-be6cfbc67ac1"
      },
      "source": [
        "def computeBill(food):\n",
        "  total = 0 \n",
        "  for i in food: \n",
        "    total += prices[i]\n",
        "  return total\n",
        "stock = {\n",
        "    \"banana\": 6, \n",
        "    \"apple\": 0, \n",
        "    \"orange\": 32,\n",
        "    \"pear\": 15\n",
        "}\n",
        "\n",
        "prices = {\n",
        "    \"banana\": 4, \n",
        "    \"apple\": 2, \n",
        "    \"orange\": 1.5,\n",
        "    \"pear\": 3\n",
        "}\n",
        "\n",
        "groceries = [\"banana\", \"orange\", \"apple\"]\n",
        "\n",
        "computeBill(groceries)"
      ],
      "execution_count": null,
      "outputs": [
        {
          "output_type": "execute_result",
          "data": {
            "text/plain": [
              "7.5"
            ]
          },
          "metadata": {
            "tags": []
          },
          "execution_count": 7
        }
      ]
    },
    {
      "cell_type": "markdown",
      "metadata": {
        "id": "jlfpPIeKrqro"
      },
      "source": [
        "**Output**\\\n",
        "7.5"
      ]
    },
    {
      "cell_type": "markdown",
      "metadata": {
        "id": "bpVNWo2etrve"
      },
      "source": [
        "**4)** To write a python program to make a teachers grade book. \n",
        "\n"
      ]
    },
    {
      "cell_type": "code",
      "metadata": {
        "colab": {
          "base_uri": "https://localhost:8080/"
        },
        "id": "gkJOBagKt1Gn",
        "outputId": "723a60e1-0c02-48e1-99b8-fb29df0148de"
      },
      "source": [
        "lloyd = {\n",
        "  \"name\": \"Lloyd\",\n",
        "  \"homework\": [90.0,97.0,75.0,92.0],\n",
        "  \"quizzes\": [88.0,40.0,94.0],\n",
        "  \"tests\": [75.0,90.0]\n",
        "}\n",
        "\n",
        "alice = {\n",
        "  \"name\": \"Alice\",\n",
        "  \"homework\": [100.0, 92.0, 98.0, 100.0],\n",
        "  \"quizzes\": [82.0, 83.0, 91.0],\n",
        "  \"tests\": [89.0, 97.0]\n",
        "}\n",
        "\n",
        "tyler = {\n",
        "  \"name\": \"Tyler\",\n",
        "  \"homework\": [0.0, 87.0, 75.0, 22.0],\n",
        "  \"quizzes\": [0.0, 75.0, 78.0],\n",
        "  \"tests\": [100.0, 100.0]\n",
        "}\n",
        "\n",
        "students = [lloyd,alice,tyler]\n",
        "\n",
        "for student in students:\n",
        "  print(\"Name: \"+ student[\"name\"])\n",
        "  print(\"Scores in Homework: \"+ str(student[\"homework\"]))\n",
        "  print(\"Scores in quizzes: \"+ str(student[\"quizzes\"]))\n",
        "  print(\"Scores in tests: \"+ str(student[\"tests\"]))\n",
        "  print(\"\\n\")\n",
        "\n",
        "def average(numbers):\n",
        "  total = sum(numbers)\n",
        "  total = float(total)\n",
        "  return total / len(numbers)\n",
        "\n",
        "def get_average(student):\n",
        "  homework = average(student[\"homework\"])\n",
        "  quizzes = average(student[\"quizzes\"])\n",
        "  tests = average(student[\"tests\"])\n",
        "  final = homework*0.1 + quizzes*0.3 + tests*0.6\n",
        "  return final\n",
        "\n",
        "def get_letter_grade(score):\n",
        "  if score >= 90:\n",
        "      return 'A'\n",
        "  elif score >=80:\n",
        "      return 'B'\n",
        "  elif score >=70:\n",
        "      return 'C'\n",
        "  elif score >=60:\n",
        "      return 'D'\n",
        "  else:\n",
        "      return 'F'\n",
        "      \n",
        "#get_letter_grade(get_average(lloyd))\n",
        "def get_class_average(students):\n",
        "  results = []\n",
        "  for student in students:\n",
        "    a = get_average(student)\n",
        "    results.append(a)\n",
        "    return average(results)\n",
        "print(\"Class Average:\", get_class_average(students))\n",
        "print(\"Average class grade:\", get_letter_grade(get_class_average(students)))"
      ],
      "execution_count": null,
      "outputs": [
        {
          "output_type": "stream",
          "text": [
            "Name: Lloyd\n",
            "Scores in Homework: [90.0, 97.0, 75.0, 92.0]\n",
            "Scores in quizzes: [88.0, 40.0, 94.0]\n",
            "Scores in tests: [75.0, 90.0]\n",
            "\n",
            "\n",
            "Name: Alice\n",
            "Scores in Homework: [100.0, 92.0, 98.0, 100.0]\n",
            "Scores in quizzes: [82.0, 83.0, 91.0]\n",
            "Scores in tests: [89.0, 97.0]\n",
            "\n",
            "\n",
            "Name: Tyler\n",
            "Scores in Homework: [0.0, 87.0, 75.0, 22.0]\n",
            "Scores in quizzes: [0.0, 75.0, 78.0]\n",
            "Scores in tests: [100.0, 100.0]\n",
            "\n",
            "\n",
            "Class Average: 80.55\n",
            "Average class grade: B\n"
          ],
          "name": "stdout"
        }
      ]
    },
    {
      "cell_type": "markdown",
      "metadata": {
        "id": "Ry1YueJrwg59"
      },
      "source": [
        "**Output**\\\n",
        "\n",
        "Name: Lloyd\\\n",
        "Scores in Homework: [90.0, 97.0, 75.0, 92.0]\\\n",
        "Scores in quizzes: [88.0, 40.0, 94.0]\\\n",
        "Scores in tests: [75.0, 90.0]\\\n",
        "\\\n",
        "\\\n",
        "Name: Alice\\\n",
        "Scores in Homework: [100.0, 92.0, 98.0, 100.0]\\\n",
        "Scores in quizzes: [82.0, 83.0, 91.0]\\\n",
        "Scores in tests: [89.0, 97.0]\\\n",
        "\\\n",
        "\\\n",
        "Name: Tyler\\\n",
        "Scores in Homework: [0.0, 87.0, 75.0, 22.0]\\\n",
        "Scores in quizzes: [0.0, 75.0, 78.0]\\\n",
        "Scores in tests: [100.0, 100.0]\\\n",
        "\\\n",
        "\\\n",
        "Class Average: 80.55\\\n",
        "Average class grade: B"
      ]
    }
  ]
}