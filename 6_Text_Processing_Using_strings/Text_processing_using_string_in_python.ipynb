{
  "nbformat": 4,
  "nbformat_minor": 0,
  "metadata": {
    "colab": {
      "provenance": []
    },
    "kernelspec": {
      "name": "python3",
      "display_name": "Python 3"
    },
    "language_info": {
      "name": "python"
    }
  },
  "cells": [
    {
      "cell_type": "markdown",
      "metadata": {
        "id": "Wlycnp3WvFI7"
      },
      "source": [
        "#**Text Processing Using String in Python**"
      ]
    },
    {
      "cell_type": "markdown",
      "metadata": {
        "id": "gBnxznb-vLcp"
      },
      "source": [
        "**Programs**\n",
        "\n",
        "B1"
      ]
    },
    {
      "cell_type": "markdown",
      "metadata": {
        "id": "31jAaxRfvYFR"
      },
      "source": [
        "**5)** Write a python program that accepts a comma separated sequence of words as input and prints the unique words in sorted form (alphanumerically). \n",
        "\n",
        "**Input:** red, black, pink, green\\\n",
        "**Output:** black, green, pink, red"
      ]
    },
    {
      "cell_type": "code",
      "metadata": {
        "colab": {
          "base_uri": "https://localhost:8080/"
        },
        "id": "xDdfiMstuwen",
        "outputId": "d200bcb4-67e9-46ab-d58b-66414792a5e8"
      },
      "source": [
        "x = input(\"Enter some words: \").split(',')\n",
        "y = set(x)\n",
        "print(','.join(sorted(y)))"
      ],
      "execution_count": null,
      "outputs": [
        {
          "output_type": "stream",
          "text": [
            "Enter some words: red, black, pink, green\n",
            " black, green, pink,red\n"
          ],
          "name": "stdout"
        }
      ]
    },
    {
      "cell_type": "markdown",
      "metadata": {
        "id": "hdKLxWy8wLRV"
      },
      "source": [
        "**Output:**\n",
        "\n",
        "1) Enter some words: red, black, pink, green\\\n",
        "black, green, pink, red\n",
        "\n",
        "2) Enter some words: green, black, red, pink, black\\\n",
        "black, pink, red, green"
      ]
    },
    {
      "cell_type": "markdown",
      "metadata": {
        "id": "-VCCd13ywizI"
      },
      "source": [
        "**6)**To write a python program to validate a string. \n",
        "\n",
        "**Link:** https://www.hackerrank.com/challenges/string-validators/problem"
      ]
    },
    {
      "cell_type": "code",
      "metadata": {
        "colab": {
          "base_uri": "https://localhost:8080/"
        },
        "id": "hGXy9XeXyQMy",
        "outputId": "78e12ec6-f702-4c82-e04c-bf189bebd6f8"
      },
      "source": [
        "def validation():\n",
        "  S = input()\n",
        "\n",
        "  print(any(map(str.isalnum, S)))\n",
        "  print(any(map(str.isalpha, S)))\n",
        "  print(any(map(str.isdigit, S)))\n",
        "  print(any(map(str.islower, S)))\n",
        "  print(any(map(str.isupper, S)))\n",
        "\n",
        "if __name__ == '__main__':\n",
        "  validation()"
      ],
      "execution_count": null,
      "outputs": [
        {
          "output_type": "stream",
          "text": [
            "rubAngIno2205\n",
            "True\n",
            "True\n",
            "True\n",
            "True\n",
            "True\n"
          ],
          "name": "stdout"
        }
      ]
    },
    {
      "cell_type": "markdown",
      "metadata": {
        "id": "PiUpPDkDzQCm"
      },
      "source": [
        "**Output:**\n",
        "\n",
        "rUbanGinO2205\\\n",
        "True\\\n",
        "True\\\n",
        "True\\\n",
        "True\\\n",
        "True"
      ]
    },
    {
      "cell_type": "markdown",
      "metadata": {
        "id": "Q6XeTasnzVFN"
      },
      "source": [
        "**7)**Write a python program to find characters count of a string which are passed as list.\n",
        "\n",
        "**Input:** St=\"hello welcome\"\\\n",
        "           lst=['l', 'w', 'm', 'e']\n",
        "\n",
        "**Output:** \\\n",
        "l 3\\\n",
        "w 1\\\n",
        "m 1\\\n",
        "e 3"
      ]
    },
    {
      "cell_type": "code",
      "metadata": {
        "colab": {
          "base_uri": "https://localhost:8080/"
        },
        "id": "9nKp4mBbzUX-",
        "outputId": "3de539b8-4c7c-4e34-eead-9e12981e7a8e"
      },
      "source": [
        "St = \"hello welcome\"\n",
        "lst = ['l', 'w', 'm', 'e', ]\n",
        "\n",
        "for i in lst: \n",
        "  count = 0\n",
        "  for char in St:\n",
        "    if (i == char):\n",
        "      count += 1\n",
        "  print(i, count)"
      ],
      "execution_count": null,
      "outputs": [
        {
          "output_type": "stream",
          "text": [
            "l 3\n",
            "w 1\n",
            "m 1\n",
            "e 3\n"
          ],
          "name": "stdout"
        }
      ]
    },
    {
      "cell_type": "markdown",
      "metadata": {
        "id": "o4qZ43992JC2"
      },
      "source": [
        "**Output:** \\\n",
        "l 3\\\n",
        "w 1\\\n",
        "m 1\\\n",
        "e 3"
      ]
    },
    {
      "cell_type": "markdown",
      "metadata": {
        "id": "FoCEIIEi2Ot7"
      },
      "source": [
        "**8)** To write a python program to find the alternate characters\n",
        "\n",
        "**Link:** https://www.hackerrank.com/challenges/alternating-characters/problem?h_l=interview&playlist_slugs%5B%5D=interview-preparation-kit&playlist_slugs%5B%5D=strings"
      ]
    },
    {
      "cell_type": "code",
      "metadata": {
        "id": "qypKf2kw2Ktb"
      },
      "source": [
        "cases = int(input())\n",
        "for caseNumbers in range(cases):\n",
        "  q = input()\n",
        "  total = 0\n",
        "  prev = -1\n",
        "  for char in q:\n",
        "    if char == prev:\n",
        "      total += 1\n",
        "    prev = char \n",
        "  print(total)"
      ],
      "execution_count": null,
      "outputs": []
    },
    {
      "cell_type": "markdown",
      "metadata": {
        "id": "u9Cbsdcj3SID"
      },
      "source": [
        "**Output:**\n",
        "\n",
        "5\\\n",
        "AAAA\\\n",
        "3\\\n",
        "BBBBB\\\n",
        "4\\\n",
        "ABABABAB\\\n",
        "0\\\n",
        "BABABABA\\\n",
        "0\\\n",
        "AAABBB\\\n",
        "4"
      ]
    }
  ]
}